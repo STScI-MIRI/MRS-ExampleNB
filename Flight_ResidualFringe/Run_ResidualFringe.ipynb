{
 "cells": [
  {
   "cell_type": "code",
   "execution_count": null,
   "id": "3d8ab284",
   "metadata": {},
   "outputs": [],
   "source": [
    "# This notebook is a quick demonstration notebook showing how to run the Residual Fringe step\n",
    "# outside of the main JWST pipeline until it is integrated into the spec2 pipeline completely.\n",
    "#\n",
    "# After running spec2 (which produces cal.fits, s3d.fits, and x1d.fits files) this notebook\n",
    "# would be run on those cal files, producing new residual_fringe.fits files along with new s3d.fits and\n",
    "# extract1dstep.fits files derived from them.  Note that this will be different than the usual spec2\n",
    "# output names, and any runs of the spec3 pipeline would then need to be modified to make sure to pick up\n",
    "# these new files and *NOT* the standard spec2 output files.\n",
    "#\n",
    "# It will need to be run on both science observations and any dedicated backgrounds."
   ]
  },
  {
   "cell_type": "code",
   "execution_count": null,
   "id": "2a3f76c4",
   "metadata": {},
   "outputs": [],
   "source": [
    "import glob, os\n",
    "from astropy.io import fits\n",
    "import numpy as np\n",
    "import matplotlib.pyplot as plt"
   ]
  },
  {
   "cell_type": "code",
   "execution_count": null,
   "id": "9637f972",
   "metadata": {},
   "outputs": [],
   "source": [
    "from jwst.residual_fringe import ResidualFringeStep\n",
    "from jwst.cube_build import CubeBuildStep\n",
    "from jwst.extract_1d import Extract1dStep"
   ]
  },
  {
   "cell_type": "code",
   "execution_count": null,
   "id": "bb48c159",
   "metadata": {},
   "outputs": [],
   "source": [
    "# Filepath to where the spec2 results for a given observation live\n",
    "input_dir = '/Users/dlaw/FlightData/APT2732/data/Obs04/stage2/'"
   ]
  },
  {
   "cell_type": "code",
   "execution_count": null,
   "id": "84011352",
   "metadata": {},
   "outputs": [],
   "source": [
    "# Define the residual fringe step\n",
    "def runrf(filename):\n",
    "    print(filename)\n",
    "    rf1 = ResidualFringeStep() # Instantiate the pipeline\n",
    "        \n",
    "    rf1.save_results = True \n",
    "    rf1.output_dir = input_dir\n",
    "    rf1(filename) # Run the pipeline on an input list of files"
   ]
  },
  {
   "cell_type": "code",
   "execution_count": null,
   "id": "96d1500f",
   "metadata": {},
   "outputs": [],
   "source": [
    "# Define the cube building step\n",
    "def runcb(filename):\n",
    "    print(filename)\n",
    "    cb1 = CubeBuildStep() # Instantiate the pipeline\n",
    "        \n",
    "    cb1.save_results = True \n",
    "    cb1.output_dir = input_dir\n",
    "    cb1.output_type = 'multi'\n",
    "    \n",
    "    cb1(filename) # Run the pipeline on an input list of files"
   ]
  },
  {
   "cell_type": "code",
   "execution_count": null,
   "id": "fe78e1b5",
   "metadata": {},
   "outputs": [],
   "source": [
    "# Define the Extract1D step\n",
    "def runex(filename):\n",
    "    print(filename)\n",
    "    ex1 = Extract1dStep() # Instantiate the pipeline\n",
    "        \n",
    "    ex1.save_results = True \n",
    "    ex1.output_dir = input_dir\n",
    "    \n",
    "    ex1(filename) # Run the pipeline on an input list of files"
   ]
  },
  {
   "cell_type": "code",
   "execution_count": null,
   "id": "b66cefc9",
   "metadata": {},
   "outputs": [],
   "source": [
    "# Run the residual fringe step\n",
    "calfiles=sorted(glob.glob(input_dir+'jw*cal.fits'))\n",
    "nfile=len(calfiles)\n",
    "\n",
    "for ii in range(0,nfile):\n",
    "    runrf(calfiles[ii])"
   ]
  },
  {
   "cell_type": "code",
   "execution_count": null,
   "id": "145d086b",
   "metadata": {},
   "outputs": [],
   "source": [
    "# Build cubes\n",
    "calfiles=sorted(glob.glob(input_dir+'jw*fringe.fits'))\n",
    "nfile=len(calfiles)\n",
    "\n",
    "for ii in range(0,nfile):\n",
    "    runcb(calfiles[ii])"
   ]
  },
  {
   "cell_type": "code",
   "execution_count": null,
   "id": "d7139294",
   "metadata": {},
   "outputs": [],
   "source": [
    "# Extract spectra\n",
    "calfiles=sorted(glob.glob(input_dir+'jw*fringe_s3d.fits'))\n",
    "nfile=len(calfiles)\n",
    "\n",
    "for ii in range(0,nfile):\n",
    "    runex(calfiles[ii])"
   ]
  }
 ],
 "metadata": {
  "kernelspec": {
   "display_name": "Python 3 (ipykernel)",
   "language": "python",
   "name": "python3"
  },
  "language_info": {
   "codemirror_mode": {
    "name": "ipython",
    "version": 3
   },
   "file_extension": ".py",
   "mimetype": "text/x-python",
   "name": "python",
   "nbconvert_exporter": "python",
   "pygments_lexer": "ipython3",
   "version": "3.10.0"
  }
 },
 "nbformat": 4,
 "nbformat_minor": 5
}
